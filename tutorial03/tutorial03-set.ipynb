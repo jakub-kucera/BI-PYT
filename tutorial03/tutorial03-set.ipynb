{
 "cells": [
  {
   "cell_type": "markdown",
   "metadata": {},
   "source": [
    "# Množiny (set)"
   ]
  },
  {
   "cell_type": "code",
   "execution_count": 1,
   "metadata": {},
   "outputs": [],
   "source": [
    "%load_ext pycodestyle_magic\n",
    "%pycodestyle_on"
   ]
  },
  {
   "cell_type": "markdown",
   "metadata": {},
   "source": [
    "### 1. Zjistěte, jaké různé znaky se vyskytují v kratším textu. Přitom postupně:\n",
    "\n",
    "- uvažujte rozdíly mezi malými a velkými písmeny\n",
    "- **ne**uvažujte rozdíly mezi malými a velkými písmeny\n",
    "\n",
    "**Hint:** `set('')`"
   ]
  },
  {
   "cell_type": "code",
   "execution_count": 2,
   "metadata": {
    "pycharm": {
     "is_executing": false
    },
    "scrolled": true,
    "tags": [
     "solution"
    ]
   },
   "outputs": [
    {
     "name": "stdout",
     "output_type": "stream",
     "text": [
      "28 {'q', 'P', 'i', 'd', 's', 'u', 'C', 'D', 'g', 'm', 'f', 'n', 'c', 'L', 'p', 'A', 'b', 'l', ',', 'v', 'e', 'o', 'r', 'h', 't', '.', ' ', 'a'}\n",
      "23 {'q', 'i', 'd', 's', 'u', 'g', 'm', 'f', 'n', 'c', 'p', 'b', 'l', ',', 'v', 'e', 'o', 'r', 'h', 't', '.', ' ', 'a'}\n"
     ]
    }
   ],
   "source": [
    "# TODO: Implement your solution."
   ]
  },
  {
   "cell_type": "markdown",
   "metadata": {},
   "source": [
    "### 2.  Zopakujte si předchozí analýzu na větším textu, ale tentokrát hledejte různá slova. Přitom postupně:\n",
    "\n",
    "- uvažujte rozdíly mezi malými a velkými písmeny\n",
    "- neuvažujte rozdíly mezi malými a velkými písmeny (tj. Auto = auto apod.)\n",
    "- odstraňte interpunkci (tj. auto, = auto apod.)\n",
    "\n",
    "**Hint:** `import string; string.punctuation`"
   ]
  },
  {
   "cell_type": "code",
   "execution_count": 3,
   "metadata": {
    "pycharm": {
     "is_executing": false
    },
    "scrolled": true,
    "tags": [
     "solution"
    ]
   },
   "outputs": [
    {
     "name": "stdout",
     "output_type": "stream",
     "text": [
      "51 {'dolor', 'natoque', 'pellentesque', 'eget', 'ut', 'dis', 'adipiscing', 'laoreet.', 'feugiat', 'Phasellus', 'ultricies', 'consectetuer', 'varius', 'massa.', 'parturient', 'ridiculus', 'nascetur', 'elit.', 'felis,', 'sociis', 'eu,', 'montes,', 'ligula', 'ante,', 'Lorem', 'nec,', 'penatibus', 'metus', 'dapibus', 'lorem', 'Cum', 'commodo', 'Donec', 'amet,', 'magnis', 'mus.', 'et', 'sit', 'tellus.', 'in,', 'ipsum', 'dolor.', 'a,', 'Aliquam', 'viverra', 'quis,', 'nulla', 'Aenean', 'sem.', 'quam', 'pretium'}\n"
     ]
    }
   ],
   "source": [
    "# TODO: Implement your solution."
   ]
  },
  {
   "cell_type": "code",
   "execution_count": 4,
   "metadata": {
    "pycharm": {
     "is_executing": false
    },
    "scrolled": true,
    "tags": [
     "solution"
    ]
   },
   "outputs": [
    {
     "name": "stdout",
     "output_type": "stream",
     "text": [
      "50 {'dolor', 'natoque', 'pellentesque', 'eget', 'ut', 'dis', 'phasellus', 'adipiscing', 'laoreet.', 'feugiat', 'ultricies', 'consectetuer', 'donec', 'aenean', 'varius', 'massa.', 'parturient', 'ridiculus', 'nascetur', 'elit.', 'felis,', 'sociis', 'aliquam', 'eu,', 'montes,', 'ligula', 'ante,', 'nec,', 'penatibus', 'metus', 'dapibus', 'lorem', 'commodo', 'amet,', 'magnis', 'mus.', 'et', 'sit', 'tellus.', 'in,', 'ipsum', 'dolor.', 'a,', 'cum', 'viverra', 'quis,', 'nulla', 'sem.', 'quam', 'pretium'}\n"
     ]
    }
   ],
   "source": [
    "# TODO: Implement your solution."
   ]
  },
  {
   "cell_type": "code",
   "execution_count": 5,
   "metadata": {
    "pycharm": {
     "is_executing": false
    },
    "scrolled": true,
    "tags": [
     "solution"
    ]
   },
   "outputs": [
    {
     "name": "stdout",
     "output_type": "stream",
     "text": [
      "49 {'nec', 'dolor', 'natoque', 'pellentesque', 'eget', 'ut', 'dis', 'phasellus', 'adipiscing', 'feugiat', 'ultricies', 'consectetuer', 'eu', 'donec', 'aenean', 'varius', 'parturient', 'ridiculus', 'montes', 'nascetur', 'sem', 'sociis', 'aliquam', 'ligula', 'elit', 'massa', 'penatibus', 'amet', 'metus', 'tellus', 'dapibus', 'lorem', 'commodo', 'laoreet', 'magnis', 'et', 'sit', 'felis', 'quis', 'ipsum', 'mus', 'in', 'cum', 'viverra', 'nulla', 'ante', 'quam', 'pretium', 'a'}\n"
     ]
    }
   ],
   "source": [
    "# TODO: Implement your solution."
   ]
  },
  {
   "cell_type": "markdown",
   "metadata": {},
   "source": [
    "### 3. Proveďte předchozí analýzu pro dva různé texty a porovnejte výsledky následujícím způsobem:\n",
    "\n",
    "- zjistěte, která slova se vyskytují v obou textech\n",
    "- vytvořte množinu všech slov, která je možno v uvedených textech najít\n",
    "- najděte slova, která obsahuje pouze první text a která obsahuje pouze druhý text\n",
    "- vytvořte množinu slov, která oba texty nemají společná\n",
    "\n",
    "**Hint:** průnik, sjednocení, rozdíl a rozdíl, symetrický rozdíl"
   ]
  },
  {
   "cell_type": "code",
   "execution_count": 7,
   "metadata": {
    "pycharm": {
     "is_executing": false
    },
    "scrolled": true,
    "tags": [
     "solution"
    ]
   },
   "outputs": [
    {
     "name": "stdout",
     "output_type": "stream",
     "text": [
      "text1 & text2 = {'a', 'in'}\n"
     ]
    }
   ],
   "source": [
    "# TODO: Implement your solution."
   ]
  },
  {
   "cell_type": "code",
   "execution_count": 9,
   "metadata": {
    "pycharm": {
     "is_executing": false
    },
    "scrolled": true,
    "tags": [
     "solution"
    ]
   },
   "outputs": [
    {
     "name": "stdout",
     "output_type": "stream",
     "text": [
      "text1 | text2 = {'ut', 'cord', 'walking-matches--a', 'writing', 'flesh', 'd', 'came', 'had', 'mathematicians', 'ill', 'handicap', 'your', 'mystery', 'quite', 'pile', 'ordinary', 'how', 'euclid.--it', 'full', 'walking', 'propositions', 'wise', 'beta', 'which', 'now', 'penatibus', 'driven', \"i'll\", 'energetic', 'vehicles', 'lorem', 'wins', 'when', 'names', 'told', 'end', 'indifferent', 'feebly', 'lays', 'cottage', 'disease', 'occupation', 'swiss', 'together', 'expanse', 'he', 'y', 'ill-fated', 'may', 'questions', 'betraying', 'varius', 'view', 'filling', 'marbles', 'fortnight', 'tell', 'arms', 'hardly', 'weaker-minded', 'over', 'my', 'decimal', 'smiled', 'aimlessly', 'bottom', 'best', 'dug', 'passionate', 'precarious', 'fact', 'say', 'with', 'bicycle', 'until', 'beat', 'surprised', 'feel', 'phenomenal', 'last', 'deference', \"c's\", 'you', 'hearse', 'figures', 'by', 'nulla', 'their', 'pitiful', 'laboured', 'years', 'this', 'smith', 'master', 'labouring', 'devoted', 'saved', 'statement', 'pumping', 'labour', 'competes', 'leak', 'day', 'art', 'refused', 'elit', 'we', 'massa', 'fit', 'blustering', 'challenges', \"isn't\", 'wood', 'water-tight', 'see', 'set', 'man', 'however', 'strong', 'creatures', 'locomotives', 'short', 'john', 'motion', 'seems', 'bit', 'rest', 'early', 'driving', 'unostentatious', 'aged', 'x', 'bore', 'rapidly', 'algebra', 'endurance', 'euclid', 'not', 'than', 'forty-eight', 'nascetur', 'piling', 'nurse', 'return', 'smoke', 'things', 'near', 'to', 'employed', 'pump', 'owing', 'live', 'c', 'finds', 'ditch', 'easy-going', 'ipsum', 'henry', 'z', 'cum', 'presented', 'fast', 'nervous', 'work', 'spelling', 'himself', 'dirty', 'upon', 'acquaintances', 'sir--just', 'pellentesque', 'unbroken', 'undersized', 'thoroughly', 'is', 'adventure', 'generally', 'became', 'moody', 'called', 'etc', 'only', 'twice', 'generously', 'long', 'growl', 'settled', 'hours', 'sem', 'm', 'temperament', 'bowed', 'voluntarily', 'helpless', 'here', 'recovered', 'preyed', 'far', 'cisterns', 'busy', 'stand', 'badly', 'quis', 'arrived', 'ever', 'roughly', 'consented', 'logarithm', 'head', 'think', 'just', 'any', 'sign', 'system', 'mere', 'a', 'stories', 'and', 'about', 'dying', 'beginner', 'us', 'draught', \"that'll\", 'i', 'grew', 'own', 'home', 'ultricies', 'walker', 'hundred', 'do', 'donec', \"he's\", 'give', 'grief', 'digging', 'family', 'that', 'jobs', 'tears', 'said', 'nothing', 'row', 'soul', 'sums', 'where', 'industry', 'expired', 'an', 'stiff', 'abjured', \"you'll\", 'murmured', 'even', 'without', 'fine', 'lying', 'having', 'health', 'fatal', 'course', 'getting', 'admiration', 'shown', 'frenzy', 'distance', 'learned', 'mind', 'use', 'finally', 'be', 'natoque', 'will', 'me', 'line', 'actual', 'occasionally', 'grave', 'regatta', 'matches', 'friend', 'hoeing', 'water', 'montes', 'chapters', 'sociis', 'aliquam', \"we're\", 'wager', 'shakes', 'ruined', 'death', 'metus', 'stretch', 'since', 'regular', 'evening', 'the', 'deranged', 'confronted', 'it', 'forth', 'his', 'after', 'romantic', 'on', 'sofa', 'intellect', 'entered', 'horseback', 'lacking', 'turn', 'three', 'arduous', 'plaintive', 'could', 'flared', 'physical', 'charm', 'fractions', 'bets', 'element', 'whatever', 'melancholy', 'parturient', 'found', 'right', 'why', 'bullied', 'very', 'put', 'offering', 'whispered', 'prefer', 'bets.--b', 'capital', 'n', 'ambitions', 'under', 'or', 'sight', 'takes', 'fetch', 'box', 'hot-headed', 'swimming', 'asylum', 'quiet', 'history', 'no', 'one', 'presently', 'book', \"many's\", 'know', 'successfully', 'sleep', 'transpired', 'out', 'hearses', 'still', 'seen', 'get', 'rules', 'done', 'who', 'william', 'leisure', 'characters', 'regattas', 'away', 'remains', 'wrangle', 'find', 'again.\"--the', 'languidly', 'varied', 'themselves', 'time', 'dallying', 'mr', 'they', 'weakling', 'bank', \"you've\", 'difficulty', 'bends', 'interest', 'alpha', 'holes', 'spoke', 'up', 'blood', 'ninety-six', 'stumbled', \"won't\", 'except', 'more', 'accidentally', 'ditch-digging', 'piece', 'containing', 'pretium', \"we've\", 'romance', 'former', 'says', 'room', 'fagged', 'left', 'aquatic', 'pages', 'sir', 'parallelopiped', 'swim', 'soon', 'aught', 'consectetuer', 'aenean', 'doing', 'same', 'heard', 'working', 'absence', 'burst', 'aspirations', 'been', 'arithmetics', 'knowed', 'sporting', 'yards', 'times', 'but', 'shadows', 'common', 'many', 'firmly', 'mysterious', 'raise', 'commodo', 'problem', 'drink', 'felis', 'good', 'made', 'to-morrow', 'clothes', 'through', 'employing', 'scratch', 'saw', 'rate.\"--the', 'lowered', 'grow', 'garrulous', 'dolor', 'bracket', 'christian', 'dis', 'full-blooded', 'student', 'empty', 'garden', 'removed', 'strong-willed', 'lowest', 'mastered', 'countless', 'always', 'first', 'others', 'going', 'afraid', 'followed', 'wear', 'tasks', 'moment', 'of', 'did', 'sped', 'money', 'peril', 'mus', 'robinson', 'terms', 'shouted', 'from', 'em', 'old', 'symbols', 'case', 'broken', 'eget', 'leaks', 'deepened', 'heave', 'often', 'can', 'poor', 'ditches', 'dig', 'stage-coaches', 'everything', 'changing', 'submitted', 'sarcophagus', 'panting', 'passions', 'words', 'into', 'hot', 'eating', 'nor', 'changed', 'lad', 'walk', 'face', 'arithmetic', \"a's\", 'possibly', 'magnis', 'cemetery', 'cistern', 'looked', 'answer', 'digs', 'answered', 'faster', 'bed', 'ante', 'quam', 'partnership', 'occupations', 'strength', 'next', 'some', 'also', 'proposes', 'them', 'coughing', 'frail', 'fellow', 'repeating', 'worn', 'ridiculus', 'shock', 'commercial', 'brotherly', 'realizing', 'gave', 'lost', 'being', 'come', 'question', 'joyless', 'alarmed', 'striven', 'condition', 'fix', 'let', 'problems', 'keep', 'gamma', 'dapibus', 'for', 'help', 'downstairs', 'something', 'went', 'as', 'constant', 'sound', 'has', 'shame', 'its', 'little', 'tea', 'river', 'constantly', 'too', 'was', 'surrounded', 'viverra', 'never', 'really', 'if', 'concealed', 'engage', 'phasellus', 'so', 'sobbed', 'are', 'two', 'foot', 'gentle', 'historical', 'night', \"don't\", 'clearly', \"i'm\", 'sides', 'four', 'again', 'tire', 'ligula', 'blunder', 'half', 'were', 'omitted', 'rallied', 'people', 'whose', 'differed', 'makes', 'front', 'town', 'b', 'delta', 'watched', 'sat', 'aggravated', 'revel', 'stood', 'doctor', 'have', 'shook', 'go', 'job', 'nec', 'breathing', 'division', 'both', 'accustomed', 'mistake', 'adipiscing', 'sunk', 'feugiat', 'then', 'to-night', 'eu', 'associates', 'syllable', 'become', 'heavenward', 'foreigners', 'dead', 'hour', 'hamlin', 'reduce', 'known', 'hand', 'sort', 'racing', 'amet', 'much', 'rowing', 'longer', 'look', 'denominator', 'funeral', 'laoreet', 'current', 'fashion', 'appear', 'sly', 'locomotive', 'great', 'asked', 'clear', 'all', 'flood', 'brackets', 'incarcerated', 'living', 'algebraica', 'plain', 'nowadays', 'monosyllables', 'resemblance', 'power', 'mathematics', 'plot', 'at', 'affected', 'rides', 'started', 'thus', 'sum', 'define', 'used', 'taken', 'flight', 'sun', 'chanced', 'identity', 'down', 'him', 'inquiry', 'might', 'running', 'contented', 'human', 'tellus', 'sleeping', 'form', 'fellows', 'borrows', 'engaged', 'sable', 'noticed', 'sports', 'kill', 'life', 'race', 'these', 'et', 'sit', 'above', 'though', 'in', 'like', 'men', 'o', 'bet', 'kind-heartedness-like', 'medicine', 'certain', 'older', 'perhaps'}\n"
     ]
    }
   ],
   "source": [
    "# TODO: Implement your solution."
   ]
  },
  {
   "cell_type": "code",
   "execution_count": 11,
   "metadata": {
    "pycharm": {
     "is_executing": false
    },
    "scrolled": true,
    "tags": [
     "solution"
    ]
   },
   "outputs": [
    {
     "name": "stdout",
     "output_type": "stream",
     "text": [
      "text1 - text2 = {'nec', 'dolor', 'natoque', 'pellentesque', 'eget', 'ut', 'dis', 'phasellus', 'adipiscing', 'feugiat', 'ultricies', 'consectetuer', 'eu', 'donec', 'aenean', 'varius', 'parturient', 'ridiculus', 'montes', 'nascetur', 'sem', 'sociis', 'aliquam', 'ligula', 'elit', 'massa', 'penatibus', 'amet', 'tellus', 'metus', 'dapibus', 'lorem', 'commodo', 'laoreet', 'magnis', 'et', 'sit', 'felis', 'quis', 'ipsum', 'mus', 'cum', 'viverra', 'nulla', 'ante', 'quam', 'pretium'}\n",
      "text2 - text1 = {'cord', 'walking-matches--a', 'writing', 'flesh', 'd', 'came', 'had', 'mathematicians', 'ill', 'handicap', 'your', 'mystery', 'quite', 'pile', 'ordinary', 'how', 'euclid.--it', 'full', 'walking', 'propositions', 'wise', 'beta', 'which', 'now', 'driven', \"i'll\", 'energetic', 'vehicles', 'wins', 'when', 'names', 'told', 'end', 'indifferent', 'feebly', 'lays', 'cottage', 'disease', 'occupation', 'swiss', 'together', 'expanse', 'he', 'y', 'ill-fated', 'may', 'questions', 'betraying', 'view', 'filling', 'marbles', 'fortnight', 'tell', 'arms', 'hardly', 'weaker-minded', 'over', 'my', 'decimal', 'smiled', 'aimlessly', 'bottom', 'best', 'dug', 'passionate', 'precarious', 'fact', 'say', 'with', 'bicycle', 'until', 'beat', 'surprised', 'feel', 'phenomenal', 'last', 'deference', \"c's\", 'you', 'hearse', 'figures', 'by', 'their', 'pitiful', 'laboured', 'years', 'this', 'smith', 'master', 'labouring', 'devoted', 'saved', 'statement', 'pumping', 'labour', 'competes', 'leak', 'day', 'art', 'refused', 'we', 'fit', 'blustering', 'challenges', \"isn't\", 'wood', 'water-tight', 'see', 'set', 'man', 'however', 'strong', 'creatures', 'locomotives', 'short', 'john', 'motion', 'seems', 'bit', 'rest', 'early', 'driving', 'unostentatious', 'aged', 'x', 'bore', 'rapidly', 'algebra', 'endurance', 'euclid', 'not', 'than', 'forty-eight', 'piling', 'nurse', 'return', 'smoke', 'things', 'near', 'to', 'employed', 'pump', 'owing', 'live', 'c', 'finds', 'ditch', 'easy-going', 'henry', 'z', 'presented', 'fast', 'nervous', 'work', 'spelling', 'himself', 'dirty', 'upon', 'acquaintances', 'sir--just', 'unbroken', 'undersized', 'thoroughly', 'is', 'adventure', 'generally', 'became', 'moody', 'called', 'etc', 'only', 'twice', 'generously', 'long', 'growl', 'settled', 'hours', 'm', 'temperament', 'bowed', 'voluntarily', 'helpless', 'here', 'recovered', 'preyed', 'far', 'cisterns', 'busy', 'stand', 'badly', 'arrived', 'ever', 'roughly', 'consented', 'logarithm', 'head', 'think', 'just', 'any', 'sign', 'system', 'mere', 'stories', 'and', 'about', 'dying', 'beginner', 'us', 'draught', \"that'll\", 'i', 'grew', 'own', 'home', 'walker', 'hundred', 'do', \"he's\", 'give', 'grief', 'digging', 'family', 'that', 'jobs', 'tears', 'said', 'nothing', 'row', 'soul', 'sums', 'where', 'industry', 'expired', 'an', 'stiff', 'abjured', \"you'll\", 'murmured', 'even', 'without', 'fine', 'lying', 'having', 'health', 'fatal', 'course', 'getting', 'admiration', 'shown', 'frenzy', 'distance', 'learned', 'mind', 'use', 'finally', 'be', 'will', 'me', 'line', 'actual', 'occasionally', 'grave', 'regatta', 'matches', 'friend', 'hoeing', 'water', 'chapters', \"we're\", 'wager', 'shakes', 'ruined', 'death', 'stretch', 'since', 'regular', 'evening', 'the', 'deranged', 'confronted', 'it', 'forth', 'his', 'after', 'romantic', 'on', 'sofa', 'intellect', 'entered', 'horseback', 'lacking', 'turn', 'three', 'arduous', 'plaintive', 'could', 'flared', 'physical', 'charm', 'fractions', 'bets', 'element', 'whatever', 'melancholy', 'found', 'right', 'why', 'bullied', 'very', 'put', 'offering', 'whispered', 'prefer', 'bets.--b', 'capital', 'n', 'ambitions', 'under', 'or', 'sight', 'takes', 'fetch', 'box', 'hot-headed', 'swimming', 'asylum', 'quiet', 'history', 'no', 'one', 'presently', 'book', \"many's\", 'know', 'successfully', 'sleep', 'transpired', 'out', 'hearses', 'still', 'seen', 'get', 'rules', 'done', 'who', 'william', 'leisure', 'characters', 'regattas', 'away', 'remains', 'wrangle', 'find', 'again.\"--the', 'languidly', 'varied', 'themselves', 'time', 'dallying', 'mr', 'they', 'weakling', 'bank', \"you've\", 'difficulty', 'bends', 'interest', 'alpha', 'holes', 'spoke', 'up', 'blood', 'ninety-six', 'stumbled', \"won't\", 'except', 'more', 'accidentally', 'ditch-digging', 'piece', 'containing', \"we've\", 'romance', 'former', 'says', 'room', 'fagged', 'left', 'aquatic', 'pages', 'sir', 'parallelopiped', 'swim', 'soon', 'aught', 'doing', 'same', 'heard', 'working', 'absence', 'burst', 'aspirations', 'been', 'arithmetics', 'knowed', 'sporting', 'yards', 'times', 'but', 'shadows', 'common', 'many', 'firmly', 'mysterious', 'raise', 'problem', 'drink', 'good', 'made', 'to-morrow', 'clothes', 'through', 'employing', 'scratch', 'saw', 'rate.\"--the', 'lowered', 'grow', 'garrulous', 'bracket', 'christian', 'full-blooded', 'student', 'empty', 'garden', 'removed', 'strong-willed', 'lowest', 'mastered', 'countless', 'always', 'first', 'others', 'going', 'afraid', 'followed', 'wear', 'tasks', 'moment', 'of', 'did', 'sped', 'money', 'peril', 'robinson', 'terms', 'shouted', 'from', 'em', 'old', 'symbols', 'case', 'broken', 'leaks', 'deepened', 'heave', 'often', 'can', 'poor', 'ditches', 'dig', 'stage-coaches', 'everything', 'changing', 'submitted', 'sarcophagus', 'panting', 'passions', 'words', 'into', 'hot', 'eating', 'nor', 'changed', 'lad', 'walk', 'face', 'arithmetic', \"a's\", 'possibly', 'cemetery', 'cistern', 'looked', 'answer', 'digs', 'answered', 'faster', 'bed', 'partnership', 'occupations', 'strength', 'next', 'some', 'also', 'proposes', 'them', 'coughing', 'frail', 'fellow', 'repeating', 'worn', 'shock', 'commercial', 'brotherly', 'realizing', 'gave', 'lost', 'being', 'come', 'question', 'joyless', 'alarmed', 'striven', 'condition', 'fix', 'let', 'problems', 'keep', 'gamma', 'for', 'help', 'downstairs', 'something', 'went', 'as', 'constant', 'sound', 'has', 'shame', 'its', 'little', 'tea', 'river', 'constantly', 'too', 'was', 'surrounded', 'never', 'really', 'if', 'concealed', 'engage', 'so', 'sobbed', 'two', 'foot', 'gentle', 'historical', 'night', \"don't\", 'clearly', \"i'm\", 'sides', 'four', 'again', 'tire', 'blunder', 'half', 'were', 'omitted', 'rallied', 'people', 'whose', 'differed', 'makes', 'front', 'town', 'b', 'delta', 'watched', 'sat', 'aggravated', 'revel', 'stood', 'doctor', 'have', 'shook', 'go', 'job', 'breathing', 'division', 'both', 'accustomed', 'mistake', 'sunk', 'then', 'to-night', 'associates', 'syllable', 'become', 'heavenward', 'foreigners', 'dead', 'hour', 'hamlin', 'reduce', 'known', 'hand', 'sort', 'racing', 'much', 'rowing', 'longer', 'look', 'denominator', 'funeral', 'certain', 'current', 'fashion', 'appear', 'sly', 'locomotive', 'great', 'asked', 'clear', 'all', 'flood', 'brackets', 'incarcerated', 'living', 'algebraica', 'plain', 'nowadays', 'monosyllables', 'resemblance', 'power', 'mathematics', 'plot', 'at', 'affected', 'rides', 'started', 'thus', 'sum', 'define', 'used', 'taken', 'flight', 'sun', 'chanced', 'identity', 'down', 'him', 'inquiry', 'might', 'running', 'contented', 'human', 'sleeping', 'form', 'fellows', 'borrows', 'engaged', 'sable', 'noticed', 'sports', 'kill', 'life', 'race', 'these', 'above', 'though', 'like', 'men', 'o', 'bet', 'kind-heartedness-like', 'medicine', 'are', 'older', 'perhaps'}\n"
     ]
    }
   ],
   "source": [
    "# TODO: Implement your solution."
   ]
  },
  {
   "cell_type": "code",
   "execution_count": 13,
   "metadata": {
    "pycharm": {
     "is_executing": false
    },
    "scrolled": true,
    "tags": [
     "solution"
    ]
   },
   "outputs": [
    {
     "name": "stdout",
     "output_type": "stream",
     "text": [
      "text1 ^ text2 = {'cord', 'ut', 'walking-matches--a', 'writing', 'flesh', 'd', 'came', 'had', 'mathematicians', 'ill', 'handicap', 'your', 'mystery', 'quite', 'pile', 'ordinary', 'how', 'euclid.--it', 'full', 'walking', 'propositions', 'wise', 'beta', 'which', 'now', 'driven', \"i'll\", 'penatibus', 'energetic', 'vehicles', 'lorem', 'wins', 'when', 'names', 'told', 'end', 'indifferent', 'feebly', 'lays', 'cottage', 'disease', 'occupation', 'swiss', 'together', 'expanse', 'he', 'y', 'ill-fated', 'may', 'questions', 'betraying', 'view', 'filling', 'marbles', 'fortnight', 'tell', 'arms', 'hardly', 'varius', 'weaker-minded', 'over', 'my', 'decimal', 'smiled', 'aimlessly', 'bottom', 'best', 'dug', 'passionate', 'precarious', 'fact', 'say', 'with', 'bicycle', 'until', 'beat', 'surprised', 'feel', 'phenomenal', 'last', 'deference', \"c's\", 'you', 'hearse', 'figures', 'by', 'nulla', 'their', 'pitiful', 'laboured', 'years', 'this', 'smith', 'master', 'labouring', 'devoted', 'saved', 'statement', 'pumping', 'labour', 'competes', 'leak', 'day', 'art', 'refused', 'elit', 'we', 'massa', 'fit', 'blustering', 'challenges', \"isn't\", 'wood', 'water-tight', 'see', 'set', 'man', 'however', 'strong', 'creatures', 'locomotives', 'short', 'john', 'motion', 'seems', 'bit', 'rest', 'early', 'driving', 'unostentatious', 'aged', 'x', 'bore', 'rapidly', 'algebra', 'endurance', 'euclid', 'not', 'than', 'forty-eight', 'nascetur', 'piling', 'nurse', 'return', 'smoke', 'things', 'near', 'to', 'employed', 'pump', 'owing', 'live', 'c', 'finds', 'ditch', 'easy-going', 'henry', 'ipsum', 'z', 'cum', 'presented', 'fast', 'nervous', 'work', 'spelling', 'himself', 'dirty', 'upon', 'acquaintances', 'sir--just', 'pellentesque', 'unbroken', 'undersized', 'thoroughly', 'is', 'adventure', 'generally', 'became', 'moody', 'called', 'etc', 'only', 'twice', 'generously', 'long', 'growl', 'settled', 'hours', 'm', 'sem', 'temperament', 'bowed', 'voluntarily', 'helpless', 'here', 'recovered', 'preyed', 'far', 'cisterns', 'busy', 'stand', 'badly', 'quis', 'arrived', 'ever', 'roughly', 'consented', 'logarithm', 'head', 'think', 'just', 'any', 'sign', 'system', 'mere', 'stories', 'and', 'about', 'dying', 'beginner', 'us', 'draught', \"that'll\", 'i', 'grew', 'own', 'home', 'walker', 'hundred', 'do', 'ultricies', \"he's\", 'donec', 'give', 'grief', 'digging', 'family', 'that', 'jobs', 'tears', 'said', 'nothing', 'row', 'soul', 'sums', 'where', 'industry', 'expired', 'an', 'stiff', 'abjured', \"you'll\", 'murmured', 'even', 'without', 'fine', 'lying', 'having', 'health', 'fatal', 'course', 'getting', 'admiration', 'shown', 'frenzy', 'distance', 'learned', 'mind', 'use', 'finally', 'be', 'natoque', 'will', 'me', 'line', 'actual', 'occasionally', 'grave', 'regatta', 'matches', 'friend', 'hoeing', 'water', 'montes', 'chapters', 'sociis', 'aliquam', \"we're\", 'wager', 'shakes', 'ruined', 'death', 'stretch', 'since', 'metus', 'regular', 'evening', 'the', 'deranged', 'confronted', 'it', 'forth', 'his', 'after', 'romantic', 'on', 'sofa', 'intellect', 'entered', 'horseback', 'lacking', 'turn', 'three', 'arduous', 'plaintive', 'could', 'flared', 'physical', 'charm', 'fractions', 'bets', 'element', 'whatever', 'melancholy', 'found', 'right', 'why', 'parturient', 'bullied', 'very', 'put', 'offering', 'whispered', 'prefer', 'bets.--b', 'capital', 'n', 'ambitions', 'under', 'or', 'sight', 'takes', 'fetch', 'box', 'hot-headed', 'swimming', 'asylum', 'quiet', 'history', 'no', 'one', 'presently', 'book', \"many's\", 'know', 'successfully', 'sleep', 'transpired', 'out', 'hearses', 'still', 'seen', 'get', 'rules', 'done', 'who', 'william', 'leisure', 'characters', 'regattas', 'away', 'remains', 'wrangle', 'find', 'again.\"--the', 'languidly', 'varied', 'themselves', 'time', 'dallying', 'mr', 'they', 'weakling', 'bank', \"you've\", 'difficulty', 'bends', 'interest', 'alpha', 'holes', 'spoke', 'up', 'blood', 'ninety-six', 'stumbled', \"won't\", 'except', 'more', 'accidentally', 'ditch-digging', 'piece', 'containing', \"we've\", 'pretium', 'romance', 'former', 'says', 'room', 'fagged', 'left', 'aquatic', 'pages', 'sir', 'parallelopiped', 'swim', 'soon', 'aught', 'consectetuer', 'doing', 'same', 'heard', 'working', 'absence', 'aenean', 'burst', 'aspirations', 'been', 'arithmetics', 'knowed', 'sporting', 'yards', 'times', 'but', 'shadows', 'common', 'many', 'firmly', 'mysterious', 'raise', 'commodo', 'problem', 'drink', 'good', 'made', 'felis', 'to-morrow', 'clothes', 'through', 'employing', 'scratch', 'saw', 'rate.\"--the', 'lowered', 'grow', 'garrulous', 'dolor', 'bracket', 'christian', 'full-blooded', 'student', 'empty', 'dis', 'garden', 'removed', 'strong-willed', 'lowest', 'mastered', 'countless', 'always', 'first', 'others', 'going', 'afraid', 'followed', 'wear', 'tasks', 'moment', 'of', 'did', 'sped', 'money', 'peril', 'robinson', 'mus', 'terms', 'shouted', 'from', 'em', 'old', 'symbols', 'case', 'broken', 'leaks', 'deepened', 'eget', 'heave', 'often', 'can', 'poor', 'ditches', 'dig', 'stage-coaches', 'everything', 'changing', 'submitted', 'sarcophagus', 'panting', 'passions', 'words', 'into', 'hot', 'eating', 'nor', 'changed', 'lad', 'walk', 'face', 'arithmetic', \"a's\", 'possibly', 'magnis', 'cemetery', 'cistern', 'looked', 'answer', 'digs', 'answered', 'faster', 'bed', 'ante', 'partnership', 'quam', 'occupations', 'strength', 'next', 'some', 'also', 'proposes', 'them', 'coughing', 'frail', 'fellow', 'repeating', 'worn', 'shock', 'ridiculus', 'commercial', 'brotherly', 'realizing', 'gave', 'lost', 'being', 'come', 'question', 'joyless', 'alarmed', 'striven', 'condition', 'fix', 'let', 'problems', 'keep', 'gamma', 'for', 'dapibus', 'help', 'downstairs', 'something', 'went', 'as', 'constant', 'sound', 'has', 'shame', 'its', 'little', 'tea', 'river', 'constantly', 'too', 'was', 'surrounded', 'viverra', 'never', 'really', 'if', 'concealed', 'engage', 'phasellus', 'so', 'sobbed', 'two', 'foot', 'gentle', 'historical', 'night', \"don't\", 'clearly', \"i'm\", 'sides', 'four', 'again', 'tire', 'blunder', 'ligula', 'half', 'were', 'omitted', 'rallied', 'people', 'whose', 'differed', 'makes', 'front', 'town', 'b', 'delta', 'watched', 'sat', 'aggravated', 'revel', 'stood', 'doctor', 'have', 'shook', 'go', 'job', 'nec', 'breathing', 'division', 'both', 'accustomed', 'mistake', 'adipiscing', 'sunk', 'feugiat', 'then', 'to-night', 'eu', 'associates', 'syllable', 'become', 'heavenward', 'foreigners', 'dead', 'hour', 'hamlin', 'reduce', 'known', 'hand', 'sort', 'racing', 'amet', 'much', 'rowing', 'longer', 'look', 'denominator', 'funeral', 'certain', 'laoreet', 'current', 'fashion', 'appear', 'sly', 'locomotive', 'great', 'asked', 'clear', 'all', 'flood', 'brackets', 'incarcerated', 'living', 'algebraica', 'plain', 'nowadays', 'monosyllables', 'resemblance', 'power', 'mathematics', 'plot', 'at', 'affected', 'rides', 'started', 'thus', 'sum', 'define', 'used', 'taken', 'flight', 'sun', 'chanced', 'identity', 'down', 'him', 'inquiry', 'might', 'running', 'contented', 'human', 'sleeping', 'tellus', 'form', 'fellows', 'borrows', 'engaged', 'sable', 'noticed', 'sports', 'kill', 'life', 'race', 'these', 'above', 'et', 'sit', 'though', 'like', 'men', 'o', 'bet', 'kind-heartedness-like', 'medicine', 'are', 'older', 'perhaps'}\n"
     ]
    }
   ],
   "source": [
    "# TODO: Implement your solution."
   ]
  },
  {
   "cell_type": "markdown",
   "metadata": {},
   "source": [
    "### 4. Ještě jednou zanalyzujte text na výskyt slov, tentokrát se ale ptejte po tom, jak různě dlouhá slova se v textu vyskytují."
   ]
  },
  {
   "cell_type": "code",
   "execution_count": 16,
   "metadata": {
    "pycharm": {
     "is_executing": false
    },
    "scrolled": false,
    "tags": [
     "solution"
    ]
   },
   "outputs": [
    {
     "data": {
      "text/plain": [
       "{1, 2, 3, 4, 5, 6, 7, 8, 9, 10, 11, 12, 13, 14, 18, 21}"
      ]
     },
     "execution_count": 16,
     "metadata": {},
     "output_type": "execute_result"
    }
   ],
   "source": [
    "# TODO: Implement your solution."
   ]
  },
  {
   "cell_type": "markdown",
   "metadata": {},
   "source": [
    "### 5. Ze zadané věty vyextrahujte množinu v ní obsažených slov. Prvky množiny budou n-tice, jejichž prvním prvkem budou jednotlivá slova z textu a druhým počet jejich výskytů v textu."
   ]
  },
  {
   "cell_type": "code",
   "execution_count": 18,
   "metadata": {
    "pycharm": {
     "is_executing": false
    },
    "scrolled": true
   },
   "outputs": [],
   "source": [
    "sentence = \"\"\"\n",
    "    třistatřiatřicet stříbrných stříkaček stříkalo přes\n",
    "    třistatřiatřicet stříbrných střech\n",
    "    \"\"\""
   ]
  },
  {
   "cell_type": "code",
   "execution_count": 19,
   "metadata": {
    "pycharm": {
     "is_executing": false
    },
    "scrolled": false,
    "tags": [
     "solution"
    ]
   },
   "outputs": [
    {
     "data": {
      "text/plain": [
       "{('přes', 1),\n",
       " ('střech', 1),\n",
       " ('stříbrných', 2),\n",
       " ('stříkalo', 1),\n",
       " ('stříkaček', 1),\n",
       " ('třistatřiatřicet', 2)}"
      ]
     },
     "execution_count": 19,
     "metadata": {},
     "output_type": "execute_result"
    }
   ],
   "source": [
    "# TODO: Implement your solution."
   ]
  }
 ],
 "metadata": {
  "kernelspec": {
   "display_name": "Python 3.7.6 64-bit",
   "metadata": {
    "interpreter": {
     "hash": "0068cab7d8b25a6115c174a0afe458ada75923fe628a27ee22b24687381fd517"
    }
   },
   "name": "python3"
  },
  "language_info": {
   "codemirror_mode": {
    "name": "ipython",
    "version": 3
   },
   "file_extension": ".py",
   "mimetype": "text/x-python",
   "name": "python",
   "nbconvert_exporter": "python",
   "pygments_lexer": "ipython3",
   "version": "3.7.6-final"
  },
  "pycharm": {
   "stem_cell": {
    "cell_type": "raw",
    "metadata": {
     "collapsed": false
    },
    "source": []
   }
  }
 },
 "nbformat": 4,
 "nbformat_minor": 2
}
