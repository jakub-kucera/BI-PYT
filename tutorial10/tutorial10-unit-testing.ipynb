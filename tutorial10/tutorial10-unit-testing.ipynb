{
 "cells": [
  {
   "cell_type": "code",
   "execution_count": 1,
   "metadata": {},
   "outputs": [
    {
     "name": "stdout",
     "output_type": "stream",
     "text": [
      "Requirement already satisfied: pycodestyle in /home/lukany/.pyenv/versions/3.7.6/lib/python3.7/site-packages (2.7.0)\n",
      "Requirement already satisfied: pycodestyle_magic in /home/lukany/.pyenv/versions/3.7.6/lib/python3.7/site-packages (0.5)\n",
      "Requirement already satisfied: flake8 in /home/lukany/.pyenv/versions/3.7.6/lib/python3.7/site-packages (3.9.1)\n",
      "Requirement already satisfied: pyflakes<2.4.0,>=2.3.0 in /home/lukany/.pyenv/versions/3.7.6/lib/python3.7/site-packages (from flake8) (2.3.1)\n",
      "Requirement already satisfied: importlib-metadata in /home/lukany/.pyenv/versions/3.7.6/lib/python3.7/site-packages (from flake8) (3.10.1)\n",
      "Requirement already satisfied: mccabe<0.7.0,>=0.6.0 in /home/lukany/.pyenv/versions/3.7.6/lib/python3.7/site-packages (from flake8) (0.6.1)\n",
      "Requirement already satisfied: zipp>=0.5 in /home/lukany/.pyenv/versions/3.7.6/lib/python3.7/site-packages (from importlib-metadata->flake8) (3.4.1)\n",
      "Requirement already satisfied: typing-extensions>=3.6.4 in /home/lukany/.pyenv/versions/3.7.6/lib/python3.7/site-packages (from importlib-metadata->flake8) (3.7.4.3)\n"
     ]
    }
   ],
   "source": [
    "# Vynucení kontroly souladu s PEP8\n",
    "!pip install pycodestyle pycodestyle_magic flake8\n",
    "%load_ext pycodestyle_magic\n",
    "%pycodestyle_on"
   ]
  },
  {
   "cell_type": "code",
   "execution_count": 2,
   "metadata": {},
   "outputs": [],
   "source": [
    "%load_ext autoreload\n",
    "%autoreload 2"
   ]
  },
  {
   "cell_type": "markdown",
   "metadata": {},
   "source": [
    "# Unit testy\n",
    "\n",
    "Pro unit testování budeme používat knihovnu [Pytest](http://doc.pytest.org/en/latest/contents.html). Cílem bude rozšířit a otestovat existující implementaci římských čísel `Roman` v modulu `roman.py`. Testy budou umístěné v modulu `test_roman.py`.\n",
    "\n",
    "Ukázka použití třídy `Roman`:"
   ]
  },
  {
   "cell_type": "code",
   "execution_count": 4,
   "metadata": {},
   "outputs": [
    {
     "data": {
      "text/plain": [
       "XLII"
      ]
     },
     "execution_count": 4,
     "metadata": {},
     "output_type": "execute_result"
    }
   ],
   "source": [
    "from roman import Roman\n",
    "\n",
    "print(Roman(\"XX\"))\n",
    "Roman.from_int(42)"
   ]
  },
  {
   "cell_type": "markdown",
   "metadata": {},
   "source": [
    "## Spouštění testů\n",
    "\n",
    "Pokud máme správně nastavený environment, mělo by stačit spustit testy v aktuální složce pomocí příkazu `pytest`. Tento příkaz lze spouštět v terminálu nebo i v Jupyter notebooku:"
   ]
  },
  {
   "cell_type": "code",
   "execution_count": 5,
   "metadata": {},
   "outputs": [],
   "source": [
    "!pytest"
   ]
  },
  {
   "cell_type": "markdown",
   "metadata": {},
   "source": [
    "## Zadání\n",
    "\n",
    "Rozšiřte třídu `Roman` o vhodné metody, tak aby podporovala operace v níže uvedeném seznamu. Zároveň průběžně doplňujte nové testy do modulu `test_roman.py`, tak aby pokrývaly všechnu novou funkcionalitu.\n",
    "\n",
    "Zkuste si také TDD (test-driven development), tj. nejdříve napište test, ověřte, že selhává a až poté implementujte testovanou funkcionalitu a ověřte testem, že funguje.\n",
    "\n",
    "Seznam vyžadovaných funkcionalit:\n",
    "\n",
    "* Equalita (`==`) s instancemi třídy Roman, např. `Roman(\"C\") == Roman(\"D\") # => False`.\n",
    "* Převod na `int` pomocí metody `int(Roman(\"X\")) # => 10`.\n",
    "* Equalita s instancemi třídy int,\n",
    "* Porovnání (`<`, `>=`, ...) s instancemi třídy Roman.\n",
    "* Porovnání s instancemi třídy int.\n",
    "* Sčítání s instancemi třídy Roman.\n",
    "* Sčítání s instancemi třídy int - komutativně. Výsledkem bude vždy instance třídy Roman.\n",
    "* Odečítání instancí třídy Roman.\n",
    "* Odečítání mezi instancemi třídy Roman a int (v obou pozicích, tj `Roman - int` i `int - Roman`).\n",
    "* Kontrola rozsahů při vytváření a operacích. Římská čísla omezte na rozsah 1 - 3999, tj. 0 ani záporná čísla .nejsou povolena. Vyhazujte a kontrolujte vyjímku `ValueError`.\n",
    "* **Bonus:** striktnější kontrola vstupů, tj. např. číslo 999 nelze dle pravidel zapsat jako IM, protože zápis římských čísel obsahuje pouze odečítací skupiny IV, IX, XL, XC, CD, CM.\n",
    "\n",
    "Většina funkcionality vyžaduje vhodné [magic metody](https://www.python-course.eu/python3_magic_methods.php)."
   ]
  },
  {
   "cell_type": "code",
   "execution_count": null,
   "metadata": {},
   "outputs": [],
   "source": []
  }
 ],
 "metadata": {
  "kernelspec": {
   "display_name": "Python 3",
   "language": "python",
   "name": "python3"
  },
  "language_info": {
   "codemirror_mode": {
    "name": "ipython",
    "version": 3
   },
   "file_extension": ".py",
   "mimetype": "text/x-python",
   "name": "python",
   "nbconvert_exporter": "python",
   "pygments_lexer": "ipython3",
   "version": "3.7.6"
  }
 },
 "nbformat": 4,
 "nbformat_minor": 4
}
