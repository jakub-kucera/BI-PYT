{
 "cells": [
  {
   "cell_type": "markdown",
   "metadata": {},
   "source": [
    "# Souborový systém\n",
    "\n",
    "V cvičeních se může hodit dokumentace modulu [os](https://docs.python.org/3/library/os.html) případně [pathlib](https://docs.python.org/3/library/pathlib.html)."
   ]
  },
  {
   "cell_type": "code",
   "execution_count": 1,
   "metadata": {},
   "outputs": [
    {
     "name": "stdout",
     "output_type": "stream",
     "text": [
      "Requirement already satisfied: pycodestyle in /opt/miniconda/lib/python3.8/site-packages (2.6.0)\r\n",
      "Requirement already satisfied: pycodestyle_magic in /opt/miniconda/lib/python3.8/site-packages (0.5)\r\n"
     ]
    }
   ],
   "source": [
    "# Vynucení kontroly souladu s PEP8\n",
    "!pip install pycodestyle pycodestyle_magic\n",
    "%load_ext pycodestyle_magic\n",
    "%pycodestyle_on"
   ]
  },
  {
   "cell_type": "code",
   "execution_count": 3,
   "metadata": {},
   "outputs": [],
   "source": [
    "import os\n",
    "from pathlib import Path  # od Pythonu 3.4"
   ]
  },
  {
   "cell_type": "markdown",
   "metadata": {},
   "source": [
    "### 1. Vypište všechny soubory a adresáře v aktuálním adresáři (tedy v místě umístění notebooku).\n",
    "\n",
    "**Hint**: Podívejte se na funkce `os.listdir()`, `os.isdir()`, `os.isfile()` nebo `listdir()`, `is_dir()`, `is_file()` objektu `pathlib.Path(path)`."
   ]
  },
  {
   "cell_type": "code",
   "execution_count": 6,
   "metadata": {
    "tags": [
     "solution"
    ]
   },
   "outputs": [
    {
     "name": "stdout",
     "output_type": "stream",
     "text": [
      "Adresáře:\n",
      "   exercises-ciphers\n",
      "   filesystem\n",
      "   cmd-arg\n",
      "   .ipynb_checkpoints\n",
      "Soubory:\n",
      "   tutorial06-filesystem-sln.ipynb\n",
      "   tutorial06-cmd-args-sln.ipynb\n",
      "   tutorial05-generators-sln4stud.ipynb\n",
      "   tutorial06-filesystem.ipynb\n",
      "   tutorial06-cmd-args.ipynb\n",
      "\n",
      "tutorial06-filesystem-sln.ipynb (soubor)\n",
      "tutorial06-cmd-args-sln.ipynb (soubor)\n",
      "exercises-ciphers (adresář)\n",
      "tutorial05-generators-sln4stud.ipynb (soubor)\n",
      "tutorial06-filesystem.ipynb (soubor)\n",
      "filesystem (adresář)\n",
      "tutorial06-cmd-args.ipynb (soubor)\n",
      "cmd-arg (adresář)\n",
      ".ipynb_checkpoints (adresář)\n",
      "\n",
      "Adresáře:\n",
      "   exercises-ciphers\n",
      "   filesystem\n",
      "   cmd-arg\n",
      "   .ipynb_checkpoints\n",
      "Soubory:\n",
      "   tutorial06-filesystem-sln.ipynb\n",
      "   tutorial06-cmd-args-sln.ipynb\n",
      "   tutorial05-generators-sln4stud.ipynb\n",
      "   tutorial06-filesystem.ipynb\n",
      "   tutorial06-cmd-args.ipynb\n"
     ]
    }
   ],
   "source": [
    "# TODO: Implement your solution."
   ]
  },
  {
   "cell_type": "markdown",
   "metadata": {},
   "source": [
    "### 2. Vypište názvy všech souborů v aktuálním adresáři spolu s jejich velikostí a časem poslední modifikace.\n",
    "\n",
    "**Hint**: `Funkce os.path.getsize()`, `os.path.getmtime()`, nebo `pathlib.Path().stat()`"
   ]
  },
  {
   "cell_type": "code",
   "execution_count": 8,
   "metadata": {
    "tags": [
     "solution"
    ]
   },
   "outputs": [
    {
     "name": "stdout",
     "output_type": "stream",
     "text": [
      "Výpis souborů:\n",
      "   ('tutorial06-filesystem-sln.ipynb', 12882, 1616344211.2924223)\n",
      "   ('tutorial06-cmd-args-sln.ipynb', 6882, 1616344339.8091009)\n",
      "   ('tutorial05-generators-sln4stud.ipynb', 8928, 1616344147.2360816)\n",
      "   ('tutorial06-filesystem.ipynb', 7602, 1614074491.0)\n",
      "   ('tutorial06-cmd-args.ipynb', 6608, 1614074488.0)\n",
      "\n",
      "Výpis souborů „učesaně“:\n",
      "   tutorial06-filesystem-sln.ipynb :       12882b |   Sun Mar 21 17:30:11 2021\n",
      "   tutorial06-cmd-args-sln.ipynb :        6882b |   Sun Mar 21 17:32:19 2021\n",
      "   tutorial05-generators-sln4stud.ipynb :        8928b |   Sun Mar 21 17:29:07 2021\n",
      "   tutorial06-filesystem.ipynb :        7602b |   Tue Feb 23 11:01:31 2021\n",
      "   tutorial06-cmd-args.ipynb :        6608b |   Tue Feb 23 11:01:28 2021\n",
      "\n",
      "Výpis souborů s pathlib:\n",
      "   tutorial06-filesystem-sln.ipynb : 12882 | Sun Mar 21 17:30:11 2021\n",
      "   tutorial06-cmd-args-sln.ipynb : 6882 | Sun Mar 21 17:32:19 2021\n",
      "   tutorial05-generators-sln4stud.ipynb : 8928 | Sun Mar 21 17:29:07 2021\n",
      "   tutorial06-filesystem.ipynb : 7602 | Tue Feb 23 11:01:31 2021\n",
      "   tutorial06-cmd-args.ipynb : 6608 | Tue Feb 23 11:01:28 2021\n"
     ]
    }
   ],
   "source": [
    "# TODO: Implement your solution."
   ]
  },
  {
   "cell_type": "markdown",
   "metadata": {},
   "source": [
    "### 3. Zjistěte celkovou velikost všech souborů v aktuálním adresáři.\n",
    "\n",
    "**Hint**: Na sčítání lze použít zabudovanou funkci `sum`."
   ]
  },
  {
   "cell_type": "code",
   "execution_count": 10,
   "metadata": {
    "tags": [
     "solution"
    ]
   },
   "outputs": [],
   "source": [
    "# TODO: Implement your solution."
   ]
  },
  {
   "cell_type": "code",
   "execution_count": 11,
   "metadata": {},
   "outputs": [
    {
     "name": "stdout",
     "output_type": "stream",
     "text": [
      "Celková velikost souborů v aktuálním adresáři: 42902 bajtů\n"
     ]
    }
   ],
   "source": [
    "print(\"Celková velikost souborů v aktuálním adresáři:\", s2, \"bajtů\")"
   ]
  },
  {
   "cell_type": "markdown",
   "metadata": {},
   "source": [
    "### 4. Napište funkci, která vypíše všechny soubory v místě zadaném parametrem.\n",
    "\n",
    "**Hint**: V podstatě tedy musíte upravit předchozí příklad především tak, abyste správně načetli a znormalizovali cestu. A jelikož `os.listdir()` vrací seznam souborů/adresářů lokálně pro zadanou cestu, musíte kompletní cestu získat složením získaného jména a zadané cesty, nejlépe asi pomocí metody `os.path.join()`. "
   ]
  },
  {
   "cell_type": "code",
   "execution_count": 15,
   "metadata": {
    "tags": [
     "solution"
    ]
   },
   "outputs": [],
   "source": [
    "# TODO: Implement your solution."
   ]
  },
  {
   "cell_type": "code",
   "execution_count": 16,
   "metadata": {},
   "outputs": [
    {
     "name": "stdout",
     "output_type": "stream",
     "text": [
      "Adresáře:\n",
      "Soubory:\n",
      "   ../tutorial04/tutorial04-functions.ipynb\n",
      "   ../tutorial04/tutorial04-decorators-sln.ipynb\n",
      "   ../tutorial04/tutorial04-decorators-sln4stud.ipynb\n",
      "   ../tutorial04/tutorial04-functions-sln.ipynb\n",
      "   ../tutorial04/tutorial04-functions-sln4stud.ipynb\n",
      "   ../tutorial04/tutorial04-decorators.ipynb\n",
      "   ../tutorial04/tutorial04-recap.ipynb\n",
      "\n",
      "Zadali jste neexistující cestu, zkuste to prosím znovu.\n"
     ]
    }
   ],
   "source": [
    "print_content('../tutorial04')\n",
    "print()\n",
    "# neexistující cesta\n",
    "print_content('../tutorial00')"
   ]
  },
  {
   "cell_type": "markdown",
   "metadata": {},
   "source": [
    "**V rámci procvičení práce s argumenty příkazové řádky, řešení implementujte do skriptu s parameterem příkazové řádky `cesta` zadaném uživatelem.**"
   ]
  },
  {
   "cell_type": "code",
   "execution_count": 17,
   "metadata": {},
   "outputs": [
    {
     "name": "stdout",
     "output_type": "stream",
     "text": [
      "python3: can't open file 'filesystem/04-sln.py': [Errno 2] No such file or directory\r\n"
     ]
    }
   ],
   "source": [
    "! python3 filesystem/04-sln.py ../tutorial04"
   ]
  },
  {
   "cell_type": "markdown",
   "metadata": {},
   "source": [
    "### 5. Upravte předchozí funkci, tak aby vypisovala pouze jupyter notebooky, tedy soubory s příponou `.ipynb`.\n",
    "\n",
    "**Hint**: `glob`."
   ]
  },
  {
   "cell_type": "code",
   "execution_count": 20,
   "metadata": {
    "tags": [
     "solution"
    ]
   },
   "outputs": [],
   "source": [
    "# TODO: Implement your solution."
   ]
  },
  {
   "cell_type": "code",
   "execution_count": null,
   "metadata": {},
   "outputs": [],
   "source": [
    "print_notebooks('../tutorial04')"
   ]
  },
  {
   "cell_type": "markdown",
   "metadata": {},
   "source": [
    "### 6. Napište funkci, která vyrobí v aktuální adresáři podadresáře, jejichž jména dostane jako argument.\n",
    "\n",
    "Opět v se můžete pokusit místo funkce napsat skript s jmény podadresářů jako argumenty příkazové řádky. \n",
    "\n",
    "**Hint**: `os.mkdir()`, `OSError`, `Path(path).mkdir`"
   ]
  },
  {
   "cell_type": "code",
   "execution_count": 22,
   "metadata": {
    "tags": [
     "solution"
    ]
   },
   "outputs": [],
   "source": [
    "# TODO: Implement your solution."
   ]
  },
  {
   "cell_type": "code",
   "execution_count": 23,
   "metadata": {},
   "outputs": [],
   "source": [
    "make_subdirs('test1', 'test2')\n",
    "print('Testové adresáře:', glob.glob('test[0-9]*'))\n",
    "# již existující adresář nelze vytvořit\n",
    "make_subdirs('test1')"
   ]
  },
  {
   "cell_type": "markdown",
   "metadata": {},
   "source": [
    "### 7. Pokuste se smazat v aktuálním adresáři podadresáře, jejichž jména zadá uživatel jako parametry skriptu."
   ]
  },
  {
   "cell_type": "code",
   "execution_count": 25,
   "metadata": {
    "tags": [
     "solution"
    ]
   },
   "outputs": [],
   "source": [
    "# TODO: Implement your solution."
   ]
  },
  {
   "cell_type": "code",
   "execution_count": 26,
   "metadata": {},
   "outputs": [],
   "source": [
    "remove_subdirs('test1')\n",
    "print('Testové adresáře:', glob.glob('test[0-9]*'))\n",
    "\n",
    "# nelze smazat neexistující adresář\n",
    "remove_subdirs('test1')\n",
    "\n",
    "# vytvoř soubor\n",
    "Path('test2/A.txt').touch()\n",
    "# neprázdný adresář nelze smazat\n",
    "remove_subdirs('test2')\n",
    "print('Testové adresáře:', glob.glob('test[0-9]*'))"
   ]
  },
  {
   "cell_type": "markdown",
   "metadata": {},
   "source": [
    "### 8. Upravte skript ze příkladu 4 na argumenty příkazové řádky, tak aby řetězec a výstupní soubor byly nepovinné parametery jejichž defaultní hodnoty se budou načítat ze souboru config.json ve složce se skriptem.\n",
    "\n",
    "**Hint**: Musíte si tedy zjistit odkud se skript spouští (koukněte na magic funkce), poté načíst json soubor (modul `json` k tomuto účelu definuje funkci `json.load(fp, ...)`) a definovat parametry `text` a `soubor_out` jako nepovinné s defaultními hodnotami."
   ]
  },
  {
   "cell_type": "code",
   "execution_count": 28,
   "metadata": {},
   "outputs": [],
   "source": [
    "! python3 cmd-arg/08-filesystem-sln.py cmd-arg/example.2.txt\n",
    "! cat 08-out.txt"
   ]
  }
 ],
 "metadata": {
  "kernelspec": {
   "display_name": "Python 3",
   "language": "python",
   "name": "python3"
  },
  "language_info": {
   "codemirror_mode": {
    "name": "ipython",
    "version": 3
   },
   "file_extension": ".py",
   "mimetype": "text/x-python",
   "name": "python",
   "nbconvert_exporter": "python",
   "pygments_lexer": "ipython3",
   "version": "3.8.6"
  }
 },
 "nbformat": 4,
 "nbformat_minor": 2
}
